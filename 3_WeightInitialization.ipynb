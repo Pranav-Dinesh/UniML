{
  "nbformat": 4,
  "nbformat_minor": 0,
  "metadata": {
    "colab": {
      "name": "3-WeightInitialization.ipynb",
      "provenance": [],
      "authorship_tag": "ABX9TyN3b2+RiwxPk4TTcIie6BRP",
      "include_colab_link": true
    },
    "kernelspec": {
      "name": "python3",
      "display_name": "Python 3"
    },
    "language_info": {
      "name": "python"
    }
  },
  "cells": [
    {
      "cell_type": "markdown",
      "metadata": {
        "id": "view-in-github",
        "colab_type": "text"
      },
      "source": [
        "<a href=\"https://colab.research.google.com/github/prandin/DeepLearning/blob/master/3_WeightInitialization.ipynb\" target=\"_parent\"><img src=\"https://colab.research.google.com/assets/colab-badge.svg\" alt=\"Open In Colab\"/></a>"
      ]
    },
    {
      "cell_type": "markdown",
      "metadata": {
        "id": "AGzU0LuYHgU7"
      },
      "source": [
        "Neuron saturation is the case where very high or very low values of z = wx + b diminishes the learning capacity of a model. By now, we have proposed cross-entropy as a way to attenuate the effects neuron saturation. \n",
        "\n",
        "But it turns out that pairing cross-entropy with a thoughtful weight initialization reduces the likelihood of neuron saturation in the first place.\n",
        "\n",
        "Keras offers multiple benefits for neural network training, one of them being that it sensibly chooses the initialization values."
      ]
    },
    {
      "cell_type": "code",
      "metadata": {
        "id": "JyMHtr6HHRIR"
      },
      "source": [
        "import keras\n",
        "import numpy as np\n",
        "from matplotlib import pyplot as plt\n",
        "from keras.models import Sequential\n",
        "from keras.layers import Dense, Activation\n",
        "from keras.initializers import Zeros, RandomNormal\n",
        "from keras.initializers import glorot_normal, glorot_uniform\n",
        "\n"
      ],
      "execution_count": 30,
      "outputs": []
    },
    {
      "cell_type": "code",
      "metadata": {
        "id": "JrNlN44hJDid"
      },
      "source": [
        "n_input = 784 #input nodes\n",
        "n_dense = 256 #no. of neurons in the dense layer"
      ],
      "execution_count": 31,
      "outputs": []
    },
    {
      "cell_type": "markdown",
      "metadata": {
        "id": "sF-x8n6jJZSu"
      },
      "source": [
        "We prefer the initialization of w and b to be reasonably scaled mainly for two reasons: firstly, larger values of w and b will tend to saturate the neurons. Secondly, any large values would imply that the network has a strong opinion about how the input and output are related. However, these values are unmerited before any actual training.\n",
        "\n",
        "Giving very low values (=0) would also not fare well. It would simply imply that the inputs and outputs are weakly related. \n",
        "\n",
        "We will initialize the biases to zeros because it just makes up a small fraction of the total number of parameters. Weights, on the other hand, must not be initialized in the same way. If the weights and biases are identical, SGD might not have enough starting points to approximate the function. So we will not initialize weights to zero, but to values near zero. We do this by sampling from a standard normal distribution with SD = 1."
      ]
    },
    {
      "cell_type": "code",
      "metadata": {
        "id": "i9-o0JYlJT_Q"
      },
      "source": [
        "b_init = Zeros()\n",
        "w_init = RandomNormal(stddev = 1.0)"
      ],
      "execution_count": 32,
      "outputs": []
    },
    {
      "cell_type": "code",
      "metadata": {
        "colab": {
          "base_uri": "https://localhost:8080/",
          "height": 265
        },
        "id": "o3BYysdgLW6W",
        "outputId": "a1061009-852b-4fbd-e19f-833be79d82b9"
      },
      "source": [
        "def modelConstruct(activation = 'sigmoid'):\n",
        "  model = Sequential()\n",
        "  model.add(Dense(n_dense,\n",
        "                  input_dim = n_input,\n",
        "                  kernel_initializer = w_init,\n",
        "                  bias_initializer = b_init))\n",
        "  model.add(Activation(activation))\n",
        "  x = np.random.random((1, n_input))\n",
        "  a = model.predict(x)\n",
        "  _ = plt.hist(np.transpose(a))\n",
        "\n",
        "modelConstruct()"
      ],
      "execution_count": 33,
      "outputs": [
        {
          "output_type": "display_data",
          "data": {
            "image/png": "[encoded data removed]",
            "text/plain": [
              "<Figure size 432x288 with 1 Axes>"
            ]
          },
          "metadata": {
            "tags": [],
            "needs_background": "light"
          }
        }
      ]
    },
    {
      "cell_type": "markdown",
      "metadata": {
        "id": "qlAu6wZFNF6l"
      },
      "source": [
        "Obviously, the activations are in the range [0, 1]. But the histogram makes it clear that most activations happen to be at the extreme ends. This means that we have encouraged our model to produce large z values, implying that most neurons are saturated, and that the neurons have a strong opinion about how x would influence y prior to any training on data."
      ]
    },
    {
      "cell_type": "code",
      "metadata": {
        "id": "R5WCX1RmNtpY"
      },
      "source": [
        "w_init = glorot_normal() #Sampling from a Glorot Normal Distribution"
      ],
      "execution_count": 34,
      "outputs": []
    },
    {
      "cell_type": "code",
      "metadata": {
        "colab": {
          "base_uri": "https://localhost:8080/",
          "height": 265
        },
        "id": "g0eIADdHN6qZ",
        "outputId": "27b339d1-96fc-4d6a-a2d3-f8c67029e9b4"
      },
      "source": [
        "modelConstruct()"
      ],
      "execution_count": 35,
      "outputs": [
        {
          "output_type": "display_data",
          "data": {
            "image/png": "[encoded data removed]",
            "text/plain": [
              "<Figure size 432x288 with 1 Axes>"
            ]
          },
          "metadata": {
            "tags": [],
            "needs_background": "light"
          }
        }
      ]
    },
    {
      "cell_type": "code",
      "metadata": {
        "colab": {
          "base_uri": "https://localhost:8080/",
          "height": 265
        },
        "id": "ihvX2cGgOS3Q",
        "outputId": "a909339e-8b31-4d86-cb41-787900585bb6"
      },
      "source": [
        "w_init = glorot_uniform() #Sampling from a Glorot Uniform Distribution\n",
        "modelConstruct()"
      ],
      "execution_count": 36,
      "outputs": [
        {
          "output_type": "display_data",
          "data": {
            "image/png": "[encoded data removed]",
            "text/plain": [
              "<Figure size 432x288 with 1 Axes>"
            ]
          },
          "metadata": {
            "tags": [],
            "needs_background": "light"
          }
        }
      ]
    },
    {
      "cell_type": "markdown",
      "metadata": {
        "id": "jrXYBU_OOkMc"
      },
      "source": [
        "**Question 1:** Why is it advised NOT to sample initial weights from a standard normal distribution?"
      ]
    },
    {
      "cell_type": "code",
      "metadata": {
        "colab": {
          "base_uri": "https://localhost:8080/",
          "height": 265
        },
        "id": "Crl-WSaESqEv",
        "outputId": "2fc016cb-76a0-4441-8272-6b0660253cb3"
      },
      "source": [
        "w_init = RandomNormal(stddev = 1.0)\n",
        "modelConstruct('relu')"
      ],
      "execution_count": 37,
      "outputs": [
        {
          "output_type": "display_data",
          "data": {
            "image/png": "[encoded data removed]",
            "text/plain": [
              "<Figure size 432x288 with 1 Axes>"
            ]
          },
          "metadata": {
            "tags": [],
            "needs_background": "light"
          }
        }
      ]
    },
    {
      "cell_type": "code",
      "metadata": {
        "colab": {
          "base_uri": "https://localhost:8080/",
          "height": 265
        },
        "id": "M_dTO_z2TK6V",
        "outputId": "bab6587c-78a5-47d4-b311-40a40d97d83f"
      },
      "source": [
        "w_init = glorot_normal()\n",
        "modelConstruct('relu')"
      ],
      "execution_count": 38,
      "outputs": [
        {
          "output_type": "display_data",
          "data": {
            "image/png": "[encoded data removed]",
            "text/plain": [
              "<Figure size 432x288 with 1 Axes>"
            ]
          },
          "metadata": {
            "tags": [],
            "needs_background": "light"
          }
        }
      ]
    },
    {
      "cell_type": "markdown",
      "metadata": {
        "id": "TFH6OaMgTS3a"
      },
      "source": [
        "Note that while both plots look identical (which may lead to believe there is no change in neuron saturation), the former produced larger activation values (reaching 40), while activations in Glorot_Normal are below 2"
      ]
    }
  ]
}